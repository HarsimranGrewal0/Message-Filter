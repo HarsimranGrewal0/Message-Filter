{
 "cells": [
  {
   "cell_type": "markdown",
   "id": "7703cbc6",
   "metadata": {},
   "source": [
    "# IMPORT LIBRARIES"
   ]
  },
  {
   "cell_type": "code",
   "execution_count": 1,
   "id": "055c97a6",
   "metadata": {},
   "outputs": [],
   "source": [
    "import pandas as pd\n",
    "import numpy as np\n",
    "import matplotlib.pyplot as plt\n",
    "import seaborn as sns"
   ]
  },
  {
   "cell_type": "markdown",
   "id": "631c2bf2",
   "metadata": {},
   "source": [
    "# READING THE DATA"
   ]
  },
  {
   "cell_type": "code",
   "execution_count": 2,
   "id": "62ac7e8f",
   "metadata": {},
   "outputs": [],
   "source": [
    "df = pd.read_csv('SMSSpamCollection', sep='\\t', names=['label', 'message'])"
   ]
  },
  {
   "cell_type": "code",
   "execution_count": 3,
   "id": "6db17809",
   "metadata": {},
   "outputs": [
    {
     "data": {
      "text/html": [
       "<div>\n",
       "<style scoped>\n",
       "    .dataframe tbody tr th:only-of-type {\n",
       "        vertical-align: middle;\n",
       "    }\n",
       "\n",
       "    .dataframe tbody tr th {\n",
       "        vertical-align: top;\n",
       "    }\n",
       "\n",
       "    .dataframe thead th {\n",
       "        text-align: right;\n",
       "    }\n",
       "</style>\n",
       "<table border=\"1\" class=\"dataframe\">\n",
       "  <thead>\n",
       "    <tr style=\"text-align: right;\">\n",
       "      <th></th>\n",
       "      <th>label</th>\n",
       "      <th>message</th>\n",
       "    </tr>\n",
       "  </thead>\n",
       "  <tbody>\n",
       "    <tr>\n",
       "      <th>0</th>\n",
       "      <td>ham</td>\n",
       "      <td>Go until jurong point, crazy.. Available only ...</td>\n",
       "    </tr>\n",
       "    <tr>\n",
       "      <th>1</th>\n",
       "      <td>ham</td>\n",
       "      <td>Ok lar... Joking wif u oni...</td>\n",
       "    </tr>\n",
       "    <tr>\n",
       "      <th>2</th>\n",
       "      <td>spam</td>\n",
       "      <td>Free entry in 2 a wkly comp to win FA Cup fina...</td>\n",
       "    </tr>\n",
       "    <tr>\n",
       "      <th>3</th>\n",
       "      <td>ham</td>\n",
       "      <td>U dun say so early hor... U c already then say...</td>\n",
       "    </tr>\n",
       "    <tr>\n",
       "      <th>4</th>\n",
       "      <td>ham</td>\n",
       "      <td>Nah I don't think he goes to usf, he lives aro...</td>\n",
       "    </tr>\n",
       "  </tbody>\n",
       "</table>\n",
       "</div>"
      ],
      "text/plain": [
       "  label                                            message\n",
       "0   ham  Go until jurong point, crazy.. Available only ...\n",
       "1   ham                      Ok lar... Joking wif u oni...\n",
       "2  spam  Free entry in 2 a wkly comp to win FA Cup fina...\n",
       "3   ham  U dun say so early hor... U c already then say...\n",
       "4   ham  Nah I don't think he goes to usf, he lives aro..."
      ]
     },
     "execution_count": 3,
     "metadata": {},
     "output_type": "execute_result"
    }
   ],
   "source": [
    "df.head()"
   ]
  },
  {
   "cell_type": "markdown",
   "id": "a922463c",
   "metadata": {},
   "source": [
    "# Exploratory Data Analysis\n"
   ]
  },
  {
   "cell_type": "code",
   "execution_count": 4,
   "id": "358ed4ad",
   "metadata": {},
   "outputs": [
    {
     "name": "stdout",
     "output_type": "stream",
     "text": [
      "<class 'pandas.core.frame.DataFrame'>\n",
      "RangeIndex: 5572 entries, 0 to 5571\n",
      "Data columns (total 2 columns):\n",
      " #   Column   Non-Null Count  Dtype \n",
      "---  ------   --------------  ----- \n",
      " 0   label    5572 non-null   object\n",
      " 1   message  5572 non-null   object\n",
      "dtypes: object(2)\n",
      "memory usage: 87.2+ KB\n"
     ]
    }
   ],
   "source": [
    "df.info()"
   ]
  },
  {
   "cell_type": "code",
   "execution_count": 5,
   "id": "4f9760b9",
   "metadata": {},
   "outputs": [
    {
     "data": {
      "text/plain": [
       "label      0\n",
       "message    0\n",
       "dtype: int64"
      ]
     },
     "execution_count": 5,
     "metadata": {},
     "output_type": "execute_result"
    }
   ],
   "source": [
    "df.isnull().sum()"
   ]
  },
  {
   "cell_type": "code",
   "execution_count": 6,
   "id": "a4405d7f",
   "metadata": {},
   "outputs": [
    {
     "data": {
      "text/plain": [
       "array(['ham', 'spam'], dtype=object)"
      ]
     },
     "execution_count": 6,
     "metadata": {},
     "output_type": "execute_result"
    }
   ],
   "source": [
    "df['label'].unique()"
   ]
  },
  {
   "cell_type": "code",
   "execution_count": 7,
   "id": "0b6173a2",
   "metadata": {},
   "outputs": [
    {
     "data": {
      "text/plain": [
       "array(['Go until jurong point, crazy.. Available only in bugis n great world la e buffet... Cine there got amore wat...',\n",
       "       'Ok lar... Joking wif u oni...',\n",
       "       \"Free entry in 2 a wkly comp to win FA Cup final tkts 21st May 2005. Text FA to 87121 to receive entry question(std txt rate)T&C's apply 08452810075over18's\",\n",
       "       ..., 'Pity, * was in mood for that. So...any other suggestions?',\n",
       "       \"The guy did some bitching but I acted like i'd be interested in buying something else next week and he gave it to us for free\",\n",
       "       'Rofl. Its true to its name'], dtype=object)"
      ]
     },
     "execution_count": 7,
     "metadata": {},
     "output_type": "execute_result"
    }
   ],
   "source": [
    "df['message'].unique()"
   ]
  },
  {
   "cell_type": "code",
   "execution_count": 8,
   "id": "a9ee437c",
   "metadata": {},
   "outputs": [],
   "source": [
    "df['lenght'] = df['message'].apply(len)"
   ]
  },
  {
   "cell_type": "code",
   "execution_count": 9,
   "id": "6d96984c",
   "metadata": {},
   "outputs": [
    {
     "data": {
      "text/html": [
       "<div>\n",
       "<style scoped>\n",
       "    .dataframe tbody tr th:only-of-type {\n",
       "        vertical-align: middle;\n",
       "    }\n",
       "\n",
       "    .dataframe tbody tr th {\n",
       "        vertical-align: top;\n",
       "    }\n",
       "\n",
       "    .dataframe thead th {\n",
       "        text-align: right;\n",
       "    }\n",
       "</style>\n",
       "<table border=\"1\" class=\"dataframe\">\n",
       "  <thead>\n",
       "    <tr style=\"text-align: right;\">\n",
       "      <th></th>\n",
       "      <th>label</th>\n",
       "      <th>message</th>\n",
       "      <th>lenght</th>\n",
       "    </tr>\n",
       "  </thead>\n",
       "  <tbody>\n",
       "    <tr>\n",
       "      <th>0</th>\n",
       "      <td>ham</td>\n",
       "      <td>Go until jurong point, crazy.. Available only ...</td>\n",
       "      <td>111</td>\n",
       "    </tr>\n",
       "    <tr>\n",
       "      <th>1</th>\n",
       "      <td>ham</td>\n",
       "      <td>Ok lar... Joking wif u oni...</td>\n",
       "      <td>29</td>\n",
       "    </tr>\n",
       "    <tr>\n",
       "      <th>2</th>\n",
       "      <td>spam</td>\n",
       "      <td>Free entry in 2 a wkly comp to win FA Cup fina...</td>\n",
       "      <td>155</td>\n",
       "    </tr>\n",
       "    <tr>\n",
       "      <th>3</th>\n",
       "      <td>ham</td>\n",
       "      <td>U dun say so early hor... U c already then say...</td>\n",
       "      <td>49</td>\n",
       "    </tr>\n",
       "    <tr>\n",
       "      <th>4</th>\n",
       "      <td>ham</td>\n",
       "      <td>Nah I don't think he goes to usf, he lives aro...</td>\n",
       "      <td>61</td>\n",
       "    </tr>\n",
       "  </tbody>\n",
       "</table>\n",
       "</div>"
      ],
      "text/plain": [
       "  label                                            message  lenght\n",
       "0   ham  Go until jurong point, crazy.. Available only ...     111\n",
       "1   ham                      Ok lar... Joking wif u oni...      29\n",
       "2  spam  Free entry in 2 a wkly comp to win FA Cup fina...     155\n",
       "3   ham  U dun say so early hor... U c already then say...      49\n",
       "4   ham  Nah I don't think he goes to usf, he lives aro...      61"
      ]
     },
     "execution_count": 9,
     "metadata": {},
     "output_type": "execute_result"
    }
   ],
   "source": [
    "df.head()"
   ]
  },
  {
   "cell_type": "code",
   "execution_count": 10,
   "id": "dca6f807",
   "metadata": {},
   "outputs": [
    {
     "data": {
      "text/plain": [
       "count    5572.000000\n",
       "mean       80.489950\n",
       "std        59.942907\n",
       "min         2.000000\n",
       "25%        36.000000\n",
       "50%        62.000000\n",
       "75%       122.000000\n",
       "max       910.000000\n",
       "Name: lenght, dtype: float64"
      ]
     },
     "execution_count": 10,
     "metadata": {},
     "output_type": "execute_result"
    }
   ],
   "source": [
    "df['lenght'].describe()"
   ]
  },
  {
   "cell_type": "code",
   "execution_count": 11,
   "id": "11c9ba6c",
   "metadata": {},
   "outputs": [
    {
     "data": {
      "text/html": [
       "<div>\n",
       "<style scoped>\n",
       "    .dataframe tbody tr th:only-of-type {\n",
       "        vertical-align: middle;\n",
       "    }\n",
       "\n",
       "    .dataframe tbody tr th {\n",
       "        vertical-align: top;\n",
       "    }\n",
       "\n",
       "    .dataframe thead th {\n",
       "        text-align: right;\n",
       "    }\n",
       "</style>\n",
       "<table border=\"1\" class=\"dataframe\">\n",
       "  <thead>\n",
       "    <tr style=\"text-align: right;\">\n",
       "      <th></th>\n",
       "      <th>label</th>\n",
       "      <th>message</th>\n",
       "      <th>lenght</th>\n",
       "    </tr>\n",
       "  </thead>\n",
       "  <tbody>\n",
       "    <tr>\n",
       "      <th>1925</th>\n",
       "      <td>ham</td>\n",
       "      <td>Ok</td>\n",
       "      <td>2</td>\n",
       "    </tr>\n",
       "    <tr>\n",
       "      <th>3051</th>\n",
       "      <td>ham</td>\n",
       "      <td>Ok</td>\n",
       "      <td>2</td>\n",
       "    </tr>\n",
       "    <tr>\n",
       "      <th>4498</th>\n",
       "      <td>ham</td>\n",
       "      <td>Ok</td>\n",
       "      <td>2</td>\n",
       "    </tr>\n",
       "    <tr>\n",
       "      <th>5357</th>\n",
       "      <td>ham</td>\n",
       "      <td>Ok</td>\n",
       "      <td>2</td>\n",
       "    </tr>\n",
       "  </tbody>\n",
       "</table>\n",
       "</div>"
      ],
      "text/plain": [
       "     label message  lenght\n",
       "1925   ham      Ok       2\n",
       "3051   ham      Ok       2\n",
       "4498   ham      Ok       2\n",
       "5357   ham      Ok       2"
      ]
     },
     "execution_count": 11,
     "metadata": {},
     "output_type": "execute_result"
    }
   ],
   "source": [
    "df[df['lenght'] == 2]"
   ]
  },
  {
   "cell_type": "code",
   "execution_count": 12,
   "id": "27d93c81",
   "metadata": {},
   "outputs": [
    {
     "data": {
      "text/plain": [
       "\"For me the love should start with attraction.i should feel that I need her every time around me.she should be the first thing which comes in my thoughts.I would start the day and end it with her.she should be there every time I dream.love will be then when my every breath has her name.my life should happen around her.my life will be named to her.I would cry for her.will give all my happiness and take all her sorrows.I will be ready to fight with anyone for her.I will be in love when I will be doing the craziest things for her.love will be when I don't have to proove anyone that my girl is the most beautiful lady on the whole planet.I will always be singing praises for her.love will be when I start up making chicken curry and end up makiing sambar.life will be the most beautiful then.will get every morning and thank god for the day because she is with me.I would like to say a lot..will tell later..\""
      ]
     },
     "execution_count": 12,
     "metadata": {},
     "output_type": "execute_result"
    }
   ],
   "source": [
    "df[df['lenght'] == 910]['message'].iloc[0]"
   ]
  },
  {
   "cell_type": "code",
   "execution_count": 13,
   "id": "993be41f",
   "metadata": {},
   "outputs": [
    {
     "data": {
      "text/plain": [
       "<AxesSubplot:ylabel='Frequency'>"
      ]
     },
     "execution_count": 13,
     "metadata": {},
     "output_type": "execute_result"
    },
    {
     "data": {
      "image/png": "[encoded data removed]",
      "text/plain": [
       "<Figure size 432x288 with 1 Axes>"
      ]
     },
     "metadata": {
      "needs_background": "light"
     },
     "output_type": "display_data"
    }
   ],
   "source": [
    "df['lenght'].plot(bins=30, kind='hist')"
   ]
  },
  {
   "cell_type": "code",
   "execution_count": 14,
   "id": "7b736b9b",
   "metadata": {},
   "outputs": [
    {
     "data": {
      "text/plain": [
       "array([<AxesSubplot:title={'center':'ham'}>,\n",
       "       <AxesSubplot:title={'center':'spam'}>], dtype=object)"
      ]
     },
     "execution_count": 14,
     "metadata": {},
     "output_type": "execute_result"
    },
    {
     "data": {
      "image/png": "[encoded data removed]",
      "text/plain": [
       "<Figure size 864x360 with 2 Axes>"
      ]
     },
     "metadata": {
      "needs_background": "light"
     },
     "output_type": "display_data"
    }
   ],
   "source": [
    "df.hist(bins=30, by='label', figsize=(12, 5))"
   ]
  },
  {
   "cell_type": "markdown",
   "id": "bf0d2243",
   "metadata": {},
   "source": [
    "# DATA PRE-PROCESSING"
   ]
  },
  {
   "cell_type": "code",
   "execution_count": 15,
   "id": "96e211b8",
   "metadata": {},
   "outputs": [],
   "source": [
    "sampleMessage ='Hi! How are you? Good Morning...'"
   ]
  },
  {
   "cell_type": "code",
   "execution_count": 16,
   "id": "308c12cf",
   "metadata": {},
   "outputs": [
    {
     "data": {
      "text/plain": [
       "'!\"#$%&\\'()*+,-./:;<=>?@[\\\\]^_`{|}~'"
      ]
     },
     "execution_count": 16,
     "metadata": {},
     "output_type": "execute_result"
    }
   ],
   "source": [
    "import string\n",
    "\n",
    "string.punctuation"
   ]
  },
  {
   "cell_type": "code",
   "execution_count": 17,
   "id": "4c9be673",
   "metadata": {},
   "outputs": [],
   "source": [
    "noPum = []"
   ]
  },
  {
   "cell_type": "code",
   "execution_count": 18,
   "id": "d76f48d6",
   "metadata": {},
   "outputs": [],
   "source": [
    "for char in sampleMessage:\n",
    "    if char not in string.punctuation:\n",
    "        noPum.append(char)"
   ]
  },
  {
   "cell_type": "code",
   "execution_count": 19,
   "id": "24eb63db",
   "metadata": {},
   "outputs": [
    {
     "data": {
      "text/plain": [
       "['H',\n",
       " 'i',\n",
       " ' ',\n",
       " 'H',\n",
       " 'o',\n",
       " 'w',\n",
       " ' ',\n",
       " 'a',\n",
       " 'r',\n",
       " 'e',\n",
       " ' ',\n",
       " 'y',\n",
       " 'o',\n",
       " 'u',\n",
       " ' ',\n",
       " 'G',\n",
       " 'o',\n",
       " 'o',\n",
       " 'd',\n",
       " ' ',\n",
       " 'M',\n",
       " 'o',\n",
       " 'r',\n",
       " 'n',\n",
       " 'i',\n",
       " 'n',\n",
       " 'g']"
      ]
     },
     "execution_count": 19,
     "metadata": {},
     "output_type": "execute_result"
    }
   ],
   "source": [
    "noPum"
   ]
  },
  {
   "cell_type": "code",
   "execution_count": 20,
   "id": "6abceb16",
   "metadata": {},
   "outputs": [],
   "source": [
    "noPum = ''.join(noPum)"
   ]
  },
  {
   "cell_type": "markdown",
   "id": "d0e28443",
   "metadata": {},
   "source": [
    "# Text Cleaning\n"
   ]
  },
  {
   "cell_type": "code",
   "execution_count": 21,
   "id": "c3792203",
   "metadata": {},
   "outputs": [],
   "source": [
    "import nltk"
   ]
  },
  {
   "cell_type": "code",
   "execution_count": 22,
   "id": "4c928603",
   "metadata": {},
   "outputs": [
    {
     "name": "stdout",
     "output_type": "stream",
     "text": [
      "NLTK Downloader\n",
      "---------------------------------------------------------------------------\n",
      "    d) Download   l) List    u) Update   c) Config   h) Help   q) Quit\n",
      "---------------------------------------------------------------------------\n",
      "Downloader> q\n"
     ]
    }
   ],
   "source": [
    "nltk.download_shell()"
   ]
  },
  {
   "cell_type": "code",
   "execution_count": 23,
   "id": "37509074",
   "metadata": {},
   "outputs": [],
   "source": [
    "from nltk.corpus import stopwords  "
   ]
  },
  {
   "cell_type": "code",
   "execution_count": 24,
   "id": "56153630",
   "metadata": {},
   "outputs": [
    {
     "data": {
      "text/plain": [
       "['i',\n",
       " 'me',\n",
       " 'my',\n",
       " 'myself',\n",
       " 'we',\n",
       " 'our',\n",
       " 'ours',\n",
       " 'ourselves',\n",
       " 'you',\n",
       " \"you're\",\n",
       " \"you've\",\n",
       " \"you'll\",\n",
       " \"you'd\",\n",
       " 'your',\n",
       " 'yours',\n",
       " 'yourself',\n",
       " 'yourselves',\n",
       " 'he',\n",
       " 'him',\n",
       " 'his',\n",
       " 'himself',\n",
       " 'she',\n",
       " \"she's\",\n",
       " 'her',\n",
       " 'hers',\n",
       " 'herself',\n",
       " 'it',\n",
       " \"it's\",\n",
       " 'its',\n",
       " 'itself',\n",
       " 'they',\n",
       " 'them',\n",
       " 'their',\n",
       " 'theirs',\n",
       " 'themselves',\n",
       " 'what',\n",
       " 'which',\n",
       " 'who',\n",
       " 'whom',\n",
       " 'this',\n",
       " 'that',\n",
       " \"that'll\",\n",
       " 'these',\n",
       " 'those',\n",
       " 'am',\n",
       " 'is',\n",
       " 'are',\n",
       " 'was',\n",
       " 'were',\n",
       " 'be',\n",
       " 'been',\n",
       " 'being',\n",
       " 'have',\n",
       " 'has',\n",
       " 'had',\n",
       " 'having',\n",
       " 'do',\n",
       " 'does',\n",
       " 'did',\n",
       " 'doing',\n",
       " 'a',\n",
       " 'an',\n",
       " 'the',\n",
       " 'and',\n",
       " 'but',\n",
       " 'if',\n",
       " 'or',\n",
       " 'because',\n",
       " 'as',\n",
       " 'until',\n",
       " 'while',\n",
       " 'of',\n",
       " 'at',\n",
       " 'by',\n",
       " 'for',\n",
       " 'with',\n",
       " 'about',\n",
       " 'against',\n",
       " 'between',\n",
       " 'into',\n",
       " 'through',\n",
       " 'during',\n",
       " 'before',\n",
       " 'after',\n",
       " 'above',\n",
       " 'below',\n",
       " 'to',\n",
       " 'from',\n",
       " 'up',\n",
       " 'down',\n",
       " 'in',\n",
       " 'out',\n",
       " 'on',\n",
       " 'off',\n",
       " 'over',\n",
       " 'under',\n",
       " 'again',\n",
       " 'further',\n",
       " 'then',\n",
       " 'once',\n",
       " 'here',\n",
       " 'there',\n",
       " 'when',\n",
       " 'where',\n",
       " 'why',\n",
       " 'how',\n",
       " 'all',\n",
       " 'any',\n",
       " 'both',\n",
       " 'each',\n",
       " 'few',\n",
       " 'more',\n",
       " 'most',\n",
       " 'other',\n",
       " 'some',\n",
       " 'such',\n",
       " 'no',\n",
       " 'nor',\n",
       " 'not',\n",
       " 'only',\n",
       " 'own',\n",
       " 'same',\n",
       " 'so',\n",
       " 'than',\n",
       " 'too',\n",
       " 'very',\n",
       " 's',\n",
       " 't',\n",
       " 'can',\n",
       " 'will',\n",
       " 'just',\n",
       " 'don',\n",
       " \"don't\",\n",
       " 'should',\n",
       " \"should've\",\n",
       " 'now',\n",
       " 'd',\n",
       " 'll',\n",
       " 'm',\n",
       " 'o',\n",
       " 're',\n",
       " 've',\n",
       " 'y',\n",
       " 'ain',\n",
       " 'aren',\n",
       " \"aren't\",\n",
       " 'couldn',\n",
       " \"couldn't\",\n",
       " 'didn',\n",
       " \"didn't\",\n",
       " 'doesn',\n",
       " \"doesn't\",\n",
       " 'hadn',\n",
       " \"hadn't\",\n",
       " 'hasn',\n",
       " \"hasn't\",\n",
       " 'haven',\n",
       " \"haven't\",\n",
       " 'isn',\n",
       " \"isn't\",\n",
       " 'ma',\n",
       " 'mightn',\n",
       " \"mightn't\",\n",
       " 'mustn',\n",
       " \"mustn't\",\n",
       " 'needn',\n",
       " \"needn't\",\n",
       " 'shan',\n",
       " \"shan't\",\n",
       " 'shouldn',\n",
       " \"shouldn't\",\n",
       " 'wasn',\n",
       " \"wasn't\",\n",
       " 'weren',\n",
       " \"weren't\",\n",
       " 'won',\n",
       " \"won't\",\n",
       " 'wouldn',\n",
       " \"wouldn't\"]"
      ]
     },
     "execution_count": 24,
     "metadata": {},
     "output_type": "execute_result"
    }
   ],
   "source": [
    "stopwords.words('english')"
   ]
  },
  {
   "cell_type": "code",
   "execution_count": 25,
   "id": "22d20736",
   "metadata": {},
   "outputs": [
    {
     "data": {
      "text/plain": [
       "'Hi How are you Good Morning'"
      ]
     },
     "execution_count": 25,
     "metadata": {},
     "output_type": "execute_result"
    }
   ],
   "source": [
    "noPum"
   ]
  },
  {
   "cell_type": "code",
   "execution_count": 26,
   "id": "2cd63e32",
   "metadata": {},
   "outputs": [
    {
     "data": {
      "text/plain": [
       "['Hi', 'How', 'are', 'you', 'Good', 'Morning']"
      ]
     },
     "execution_count": 26,
     "metadata": {},
     "output_type": "execute_result"
    }
   ],
   "source": [
    "noPum.split()"
   ]
  },
  {
   "cell_type": "code",
   "execution_count": 27,
   "id": "4fd5c306",
   "metadata": {},
   "outputs": [],
   "source": [
    "clearMessage = []"
   ]
  },
  {
   "cell_type": "code",
   "execution_count": 28,
   "id": "89271695",
   "metadata": {},
   "outputs": [],
   "source": [
    "for word in noPum.split():\n",
    "    if word not in stopwords.words('english'):\n",
    "        clearMessage.append(word)\n",
    "    "
   ]
  },
  {
   "cell_type": "code",
   "execution_count": 29,
   "id": "b41a2ab1",
   "metadata": {},
   "outputs": [
    {
     "data": {
      "text/plain": [
       "['Hi', 'How', 'Good', 'Morning']"
      ]
     },
     "execution_count": 29,
     "metadata": {},
     "output_type": "execute_result"
    }
   ],
   "source": [
    "clearMessage"
   ]
  },
  {
   "cell_type": "code",
   "execution_count": 30,
   "id": "170ca1d3",
   "metadata": {},
   "outputs": [],
   "source": [
    "def textFilerting(message):\n",
    "    noPum = [char for char in message if char not in string.punctuation]\n",
    "    noPum = ''.join(noPum)\n",
    "    return [word for word in noPum.split() if word.lower() not in string.punctuation]"
   ]
  },
  {
   "cell_type": "code",
   "execution_count": 31,
   "id": "74a6d9aa",
   "metadata": {},
   "outputs": [
    {
     "data": {
      "text/plain": [
       "0    Go until jurong point, crazy.. Available only ...\n",
       "1                        Ok lar... Joking wif u oni...\n",
       "2    Free entry in 2 a wkly comp to win FA Cup fina...\n",
       "3    U dun say so early hor... U c already then say...\n",
       "4    Nah I don't think he goes to usf, he lives aro...\n",
       "Name: message, dtype: object"
      ]
     },
     "execution_count": 31,
     "metadata": {},
     "output_type": "execute_result"
    }
   ],
   "source": [
    "df['message'].head()"
   ]
  },
  {
   "cell_type": "code",
   "execution_count": 32,
   "id": "1f047113",
   "metadata": {},
   "outputs": [
    {
     "data": {
      "text/plain": [
       "0    [Go, until, jurong, point, crazy, Available, o...\n",
       "1                       [Ok, lar, Joking, wif, u, oni]\n",
       "2    [Free, entry, in, 2, a, wkly, comp, to, win, F...\n",
       "3    [U, dun, say, so, early, hor, U, c, already, t...\n",
       "4    [Nah, I, dont, think, he, goes, to, usf, he, l...\n",
       "Name: message, dtype: object"
      ]
     },
     "execution_count": 32,
     "metadata": {},
     "output_type": "execute_result"
    }
   ],
   "source": [
    "df['message'].head().apply(textFilerting)"
   ]
  },
  {
   "cell_type": "code",
   "execution_count": 33,
   "id": "6e2f7c0f",
   "metadata": {},
   "outputs": [],
   "source": [
    "from sklearn.feature_extraction.text import CountVectorizer"
   ]
  },
  {
   "cell_type": "code",
   "execution_count": 34,
   "id": "3f5ac23d",
   "metadata": {},
   "outputs": [],
   "source": [
    "bowTransformer = CountVectorizer(analyzer=textFilerting).fit(df['message'])"
   ]
  },
  {
   "cell_type": "code",
   "execution_count": 35,
   "id": "4958b8af",
   "metadata": {},
   "outputs": [
    {
     "data": {
      "text/plain": [
       "11747"
      ]
     },
     "execution_count": 35,
     "metadata": {},
     "output_type": "execute_result"
    }
   ],
   "source": [
    "len(bowTransformer.vocabulary_)"
   ]
  },
  {
   "cell_type": "code",
   "execution_count": 36,
   "id": "961cf783",
   "metadata": {},
   "outputs": [
    {
     "data": {
      "text/plain": [
       "'WINNER!! As a valued network customer you have been selected to receivea £900 prize reward! To claim call 09061701461. Claim code KL341. Valid 12 hours only.'"
      ]
     },
     "execution_count": 36,
     "metadata": {},
     "output_type": "execute_result"
    }
   ],
   "source": [
    "sampleMessage = df['message'].iloc[8]\n",
    "sampleMessage"
   ]
  },
  {
   "cell_type": "code",
   "execution_count": 37,
   "id": "881c08b1",
   "metadata": {},
   "outputs": [
    {
     "name": "stdout",
     "output_type": "stream",
     "text": [
      "  (0, 219)\t1\n",
      "  (0, 326)\t1\n",
      "  (0, 1115)\t1\n",
      "  (0, 1523)\t1\n",
      "  (0, 2562)\t1\n",
      "  (0, 4161)\t1\n",
      "  (0, 4319)\t1\n",
      "  (0, 4391)\t1\n",
      "  (0, 4651)\t1\n",
      "  (0, 5189)\t1\n",
      "  (0, 5490)\t1\n",
      "  (0, 5735)\t1\n",
      "  (0, 5790)\t1\n",
      "  (0, 6036)\t1\n",
      "  (0, 7282)\t1\n",
      "  (0, 7442)\t1\n",
      "  (0, 8665)\t1\n",
      "  (0, 8863)\t1\n",
      "  (0, 9333)\t1\n",
      "  (0, 9529)\t1\n",
      "  (0, 9689)\t1\n",
      "  (0, 9906)\t1\n",
      "  (0, 10815)\t1\n",
      "  (0, 11129)\t1\n",
      "  (0, 11632)\t1\n",
      "  (0, 11734)\t1\n"
     ]
    }
   ],
   "source": [
    "sampleBow = bowTransformer.transform([sampleMessage]) \n",
    "print(sampleBow)"
   ]
  },
  {
   "cell_type": "code",
   "execution_count": 38,
   "id": "896efe31",
   "metadata": {},
   "outputs": [],
   "source": [
    "messageBow = bowTransformer.transform(df['message'])"
   ]
  },
  {
   "cell_type": "code",
   "execution_count": 39,
   "id": "6f7ab2f9",
   "metadata": {},
   "outputs": [
    {
     "data": {
      "text/plain": [
       "<5572x11747 sparse matrix of type '<class 'numpy.int64'>'\n",
       "\twith 79463 stored elements in Compressed Sparse Row format>"
      ]
     },
     "execution_count": 39,
     "metadata": {},
     "output_type": "execute_result"
    }
   ],
   "source": [
    "messageBow"
   ]
  },
  {
   "cell_type": "markdown",
   "id": "ab9eefbc",
   "metadata": {},
   "source": [
    "# Dealing with Text (Natural Language data) data\n"
   ]
  },
  {
   "cell_type": "code",
   "execution_count": 40,
   "id": "fd669f46",
   "metadata": {},
   "outputs": [],
   "source": [
    "from sklearn.feature_extraction.text import TfidfTransformer"
   ]
  },
  {
   "cell_type": "code",
   "execution_count": 41,
   "id": "7fd1dc1b",
   "metadata": {},
   "outputs": [],
   "source": [
    "tfidfTransformer = TfidfTransformer().fit(messageBow)"
   ]
  },
  {
   "cell_type": "code",
   "execution_count": 42,
   "id": "bf6b68b9",
   "metadata": {},
   "outputs": [
    {
     "name": "stdout",
     "output_type": "stream",
     "text": [
      "  (0, 11734)\t0.23983246125402152\n",
      "  (0, 11632)\t0.07758099108312844\n",
      "  (0, 11129)\t0.22694609646082237\n",
      "  (0, 10815)\t0.07065822895308028\n",
      "  (0, 9906)\t0.1978248320377246\n",
      "  (0, 9689)\t0.23608911778607103\n",
      "  (0, 9529)\t0.2710048686977179\n",
      "  (0, 9333)\t0.1713535757370171\n",
      "  (0, 8863)\t0.14288378889142447\n",
      "  (0, 8665)\t0.20117336687442408\n",
      "  (0, 7442)\t0.20768207861358928\n",
      "  (0, 7282)\t0.11225669790721766\n",
      "  (0, 6036)\t0.1856526924951415\n",
      "  (0, 5790)\t0.22204692794138525\n",
      "  (0, 5735)\t0.16786715918250522\n",
      "  (0, 5490)\t0.11806553602667534\n",
      "  (0, 5189)\t0.15403201688512166\n",
      "  (0, 4651)\t0.08317850783375423\n",
      "  (0, 4391)\t0.2618618473724693\n",
      "  (0, 4319)\t0.2091605631481861\n",
      "  (0, 4161)\t0.16745706722029996\n",
      "  (0, 2562)\t0.2710048686977179\n",
      "  (0, 1523)\t0.19479571382039013\n",
      "  (0, 1115)\t0.18868181071247597\n",
      "  (0, 326)\t0.21985421815617237\n",
      "  (0, 219)\t0.2710048686977179\n"
     ]
    }
   ],
   "source": [
    "sampleTfidf = tfidfTransformer.transform(sampleBow)\n",
    "print(sampleTfidf)"
   ]
  },
  {
   "cell_type": "code",
   "execution_count": 43,
   "id": "c2f938e7",
   "metadata": {},
   "outputs": [],
   "source": [
    "messagesTfidf = tfidfTransformer.transform(messageBow)"
   ]
  },
  {
   "cell_type": "markdown",
   "id": "7af705fe",
   "metadata": {},
   "source": [
    "# MULTINOMIAL NAIVE BAYES CLASSIFIER "
   ]
  },
  {
   "cell_type": "code",
   "execution_count": 44,
   "id": "f4ed0a23",
   "metadata": {},
   "outputs": [],
   "source": [
    "from sklearn.naive_bayes import MultinomialNB"
   ]
  },
  {
   "cell_type": "code",
   "execution_count": 45,
   "id": "6b9093cd",
   "metadata": {},
   "outputs": [],
   "source": [
    "model = MultinomialNB().fit(messagesTfidf, df['label'])"
   ]
  },
  {
   "cell_type": "code",
   "execution_count": 46,
   "id": "86ab631f",
   "metadata": {},
   "outputs": [
    {
     "data": {
      "text/plain": [
       "array(['spam'], dtype='<U4')"
      ]
     },
     "execution_count": 46,
     "metadata": {},
     "output_type": "execute_result"
    }
   ],
   "source": [
    "model.predict(sampleTfidf)"
   ]
  },
  {
   "cell_type": "code",
   "execution_count": 47,
   "id": "7e521f81",
   "metadata": {},
   "outputs": [],
   "source": [
    "predictions = model.predict(messagesTfidf)"
   ]
  },
  {
   "cell_type": "code",
   "execution_count": 48,
   "id": "c7b53793",
   "metadata": {},
   "outputs": [],
   "source": [
    "from sklearn.metrics import classification_report"
   ]
  },
  {
   "cell_type": "code",
   "execution_count": null,
   "id": "9d5f800e",
   "metadata": {},
   "outputs": [],
   "source": [
    " "
   ]
  },
  {
   "cell_type": "code",
   "execution_count": 49,
   "id": "af93ded6",
   "metadata": {},
   "outputs": [
    {
     "name": "stdout",
     "output_type": "stream",
     "text": [
      "              precision    recall  f1-score   support\n",
      "\n",
      "         ham       0.97      1.00      0.98      4825\n",
      "        spam       1.00      0.79      0.88       747\n",
      "\n",
      "    accuracy                           0.97      5572\n",
      "   macro avg       0.98      0.90      0.93      5572\n",
      "weighted avg       0.97      0.97      0.97      5572\n",
      "\n"
     ]
    }
   ],
   "source": [
    "print(classification_report(df['label'], predictions))"
   ]
  },
  {
   "cell_type": "markdown",
   "id": "6c495a59",
   "metadata": {},
   "source": [
    "## Pipelining\n"
   ]
  },
  {
   "cell_type": "code",
   "execution_count": 50,
   "id": "13e7f40e",
   "metadata": {},
   "outputs": [],
   "source": [
    "from sklearn.pipeline import Pipeline"
   ]
  },
  {
   "cell_type": "code",
   "execution_count": 51,
   "id": "5f5db6ce",
   "metadata": {},
   "outputs": [],
   "source": [
    "pipeline = Pipeline([('bow', CountVectorizer(analyzer=textFilerting)),('tfidf', TfidfTransformer()),('classifier' , MultinomialNB())])"
   ]
  },
  {
   "cell_type": "code",
   "execution_count": 52,
   "id": "426a6710",
   "metadata": {},
   "outputs": [
    {
     "ename": "NameError",
     "evalue": "name 'LogisticRegression' is not defined",
     "output_type": "error",
     "traceback": [
      "\u001b[1;31m---------------------------------------------------------------------------\u001b[0m",
      "\u001b[1;31mNameError\u001b[0m                                 Traceback (most recent call last)",
      "\u001b[1;32m~\\AppData\\Local\\Temp/ipykernel_13588/543623300.py\u001b[0m in \u001b[0;36m<module>\u001b[1;34m\u001b[0m\n\u001b[1;32m----> 1\u001b[1;33m \u001b[0mpipeline1\u001b[0m \u001b[1;33m=\u001b[0m \u001b[0mPipeline\u001b[0m\u001b[1;33m(\u001b[0m\u001b[1;33m[\u001b[0m\u001b[1;33m(\u001b[0m\u001b[1;34m'bow'\u001b[0m\u001b[1;33m,\u001b[0m \u001b[0mCountVectorizer\u001b[0m\u001b[1;33m(\u001b[0m\u001b[0manalyzer\u001b[0m\u001b[1;33m=\u001b[0m\u001b[0mtextFilerting\u001b[0m\u001b[1;33m)\u001b[0m\u001b[1;33m)\u001b[0m\u001b[1;33m,\u001b[0m\u001b[1;33m(\u001b[0m\u001b[1;34m'tfidf'\u001b[0m\u001b[1;33m,\u001b[0m \u001b[0mTfidfTransformer\u001b[0m\u001b[1;33m(\u001b[0m\u001b[1;33m)\u001b[0m\u001b[1;33m)\u001b[0m\u001b[1;33m,\u001b[0m\u001b[1;33m(\u001b[0m\u001b[1;34m'classifier'\u001b[0m \u001b[1;33m,\u001b[0m \u001b[0mLogisticRegression\u001b[0m\u001b[1;33m(\u001b[0m\u001b[1;33m)\u001b[0m\u001b[1;33m)\u001b[0m\u001b[1;33m]\u001b[0m\u001b[1;33m)\u001b[0m\u001b[1;33m\u001b[0m\u001b[1;33m\u001b[0m\u001b[0m\n\u001b[0m",
      "\u001b[1;31mNameError\u001b[0m: name 'LogisticRegression' is not defined"
     ]
    }
   ],
   "source": [
    "pipeline1 = Pipeline([('bow', CountVectorizer(analyzer=textFilerting)),('tfidf', TfidfTransformer()),('classifier' , LogisticRegression())])"
   ]
  },
  {
   "cell_type": "code",
   "execution_count": null,
   "id": "9e2955b7",
   "metadata": {},
   "outputs": [],
   "source": [
    "df.columns"
   ]
  },
  {
   "cell_type": "code",
   "execution_count": null,
   "id": "874d11e7",
   "metadata": {},
   "outputs": [],
   "source": [
    "x = df['message']\n",
    "y = df['label']"
   ]
  },
  {
   "cell_type": "code",
   "execution_count": null,
   "id": "ebcec988",
   "metadata": {},
   "outputs": [],
   "source": [
    "df.head()"
   ]
  },
  {
   "cell_type": "markdown",
   "id": "8fd191e4",
   "metadata": {},
   "source": [
    "## Train Test Split\n"
   ]
  },
  {
   "cell_type": "code",
   "execution_count": null,
   "id": "069746df",
   "metadata": {},
   "outputs": [],
   "source": [
    "from sklearn.model_selection import train_test_split"
   ]
  },
  {
   "cell_type": "code",
   "execution_count": 53,
   "id": "9a84d26c",
   "metadata": {},
   "outputs": [
    {
     "ename": "NameError",
     "evalue": "name 'train_test_split' is not defined",
     "output_type": "error",
     "traceback": [
      "\u001b[1;31m---------------------------------------------------------------------------\u001b[0m",
      "\u001b[1;31mNameError\u001b[0m                                 Traceback (most recent call last)",
      "\u001b[1;32m~\\AppData\\Local\\Temp/ipykernel_13588/3361746259.py\u001b[0m in \u001b[0;36m<module>\u001b[1;34m\u001b[0m\n\u001b[1;32m----> 1\u001b[1;33m \u001b[0mx_train\u001b[0m\u001b[1;33m,\u001b[0m \u001b[0mx_test\u001b[0m\u001b[1;33m,\u001b[0m \u001b[0my_train\u001b[0m\u001b[1;33m,\u001b[0m \u001b[0my_test\u001b[0m \u001b[1;33m=\u001b[0m \u001b[0mtrain_test_split\u001b[0m\u001b[1;33m(\u001b[0m\u001b[0mx\u001b[0m\u001b[1;33m,\u001b[0m \u001b[0my\u001b[0m\u001b[1;33m,\u001b[0m \u001b[0mtest_size\u001b[0m\u001b[1;33m=\u001b[0m\u001b[1;36m0.3\u001b[0m\u001b[1;33m)\u001b[0m\u001b[1;33m\u001b[0m\u001b[1;33m\u001b[0m\u001b[0m\n\u001b[0m",
      "\u001b[1;31mNameError\u001b[0m: name 'train_test_split' is not defined"
     ]
    }
   ],
   "source": [
    "x_train, x_test, y_train, y_test = train_test_split(x, y, test_size=0.3)"
   ]
  },
  {
   "cell_type": "code",
   "execution_count": 54,
   "id": "948bbe6f",
   "metadata": {},
   "outputs": [
    {
     "ename": "NameError",
     "evalue": "name 'x_train' is not defined",
     "output_type": "error",
     "traceback": [
      "\u001b[1;31m---------------------------------------------------------------------------\u001b[0m",
      "\u001b[1;31mNameError\u001b[0m                                 Traceback (most recent call last)",
      "\u001b[1;32m~\\AppData\\Local\\Temp/ipykernel_13588/1710797709.py\u001b[0m in \u001b[0;36m<module>\u001b[1;34m\u001b[0m\n\u001b[1;32m----> 1\u001b[1;33m \u001b[0mx_train\u001b[0m\u001b[1;33m\u001b[0m\u001b[1;33m\u001b[0m\u001b[0m\n\u001b[0m",
      "\u001b[1;31mNameError\u001b[0m: name 'x_train' is not defined"
     ]
    }
   ],
   "source": [
    "x_train"
   ]
  },
  {
   "cell_type": "code",
   "execution_count": 55,
   "id": "5f89f8c5",
   "metadata": {},
   "outputs": [
    {
     "ename": "NameError",
     "evalue": "name 'y_test' is not defined",
     "output_type": "error",
     "traceback": [
      "\u001b[1;31m---------------------------------------------------------------------------\u001b[0m",
      "\u001b[1;31mNameError\u001b[0m                                 Traceback (most recent call last)",
      "\u001b[1;32m~\\AppData\\Local\\Temp/ipykernel_13588/4075987148.py\u001b[0m in \u001b[0;36m<module>\u001b[1;34m\u001b[0m\n\u001b[1;32m----> 1\u001b[1;33m \u001b[0my_test\u001b[0m\u001b[1;33m\u001b[0m\u001b[1;33m\u001b[0m\u001b[0m\n\u001b[0m",
      "\u001b[1;31mNameError\u001b[0m: name 'y_test' is not defined"
     ]
    }
   ],
   "source": [
    "y_test"
   ]
  },
  {
   "cell_type": "markdown",
   "id": "54cc9a57",
   "metadata": {},
   "source": [
    "# LOGISTIC REGRESSION"
   ]
  },
  {
   "cell_type": "code",
   "execution_count": 60,
   "id": "2fad07f6",
   "metadata": {},
   "outputs": [],
   "source": [
    "from sklearn.linear_model import LogisticRegression"
   ]
  },
  {
   "cell_type": "code",
   "execution_count": 61,
   "id": "c4112dfe",
   "metadata": {},
   "outputs": [],
   "source": [
    "lr = LogisticRegression()"
   ]
  },
  {
   "cell_type": "code",
   "execution_count": 63,
   "id": "24b3ea97",
   "metadata": {},
   "outputs": [],
   "source": [
    "def update(label):\n",
    "    if label == 'ham':\n",
    "        return 0\n",
    "    else:\n",
    "        return 1\n",
    "    "
   ]
  },
  {
   "cell_type": "code",
   "execution_count": 64,
   "id": "fa93e76d",
   "metadata": {},
   "outputs": [],
   "source": [
    "df['label'] = df['label'].apply(update)"
   ]
  },
  {
   "cell_type": "code",
   "execution_count": 65,
   "id": "31f72c62",
   "metadata": {},
   "outputs": [
    {
     "data": {
      "text/plain": [
       "3757     Yes:)here tv is always available in work place..\n",
       "1009    Poyyarikatur,kolathupalayam,unjalur post,erode...\n",
       "1282        Am I the only one who doesn't stalk profiles?\n",
       "255                I'm back, lemme know when you're ready\n",
       "1817         Are you going to write ccna exam this week??\n",
       "                              ...                        \n",
       "1364    Yetunde, i'm sorry but moji and i seem too bus...\n",
       "3416                        He remains a bro amongst bros\n",
       "4766    if you text on your way to cup stop that shoul...\n",
       "4895                             Convey my regards to him\n",
       "5279    Helloooo... Wake up..! \"Sweet\" \"morning\" \"welc...\n",
       "Name: message, Length: 3900, dtype: object"
      ]
     },
     "execution_count": 65,
     "metadata": {},
     "output_type": "execute_result"
    }
   ],
   "source": [
    "x_train"
   ]
  },
  {
   "cell_type": "code",
   "execution_count": 66,
   "id": "017ef810",
   "metadata": {},
   "outputs": [
    {
     "data": {
      "text/plain": [
       "array(['ham', 'spam'], dtype=object)"
      ]
     },
     "execution_count": 66,
     "metadata": {},
     "output_type": "execute_result"
    }
   ],
   "source": [
    "y_train.unique()"
   ]
  },
  {
   "cell_type": "code",
   "execution_count": null,
   "id": "dce70a6a",
   "metadata": {},
   "outputs": [],
   "source": []
  },
  {
   "cell_type": "code",
   "execution_count": 67,
   "id": "5153a825",
   "metadata": {},
   "outputs": [
    {
     "data": {
      "text/plain": [
       "Pipeline(steps=[('bow',\n",
       "                 CountVectorizer(analyzer=<function textFilerting at 0x0000025D73475790>)),\n",
       "                ('tfidf', TfidfTransformer()),\n",
       "                ('classifier', LogisticRegression())])"
      ]
     },
     "execution_count": 67,
     "metadata": {},
     "output_type": "execute_result"
    }
   ],
   "source": [
    "pipeline1.fit(x_train,y_train)"
   ]
  },
  {
   "cell_type": "raw",
   "id": "e0650cdd",
   "metadata": {},
   "source": [
    "lr.coef_"
   ]
  },
  {
   "cell_type": "code",
   "execution_count": 68,
   "id": "91e9b3a9",
   "metadata": {},
   "outputs": [],
   "source": [
    "predictions = pipeline1.predict(x_test)"
   ]
  },
  {
   "cell_type": "code",
   "execution_count": 69,
   "id": "f4c916cc",
   "metadata": {},
   "outputs": [],
   "source": [
    "from sklearn.metrics import classification_report, confusion_matrix"
   ]
  },
  {
   "cell_type": "code",
   "execution_count": 70,
   "id": "eb81c373",
   "metadata": {},
   "outputs": [
    {
     "data": {
      "text/plain": [
       "array([[1458,    1],\n",
       "       [  62,  151]], dtype=int64)"
      ]
     },
     "execution_count": 70,
     "metadata": {},
     "output_type": "execute_result"
    }
   ],
   "source": [
    "confusion_matrix(y_test, predictions)"
   ]
  },
  {
   "cell_type": "code",
   "execution_count": 71,
   "id": "11298b56",
   "metadata": {},
   "outputs": [
    {
     "name": "stdout",
     "output_type": "stream",
     "text": [
      "              precision    recall  f1-score   support\n",
      "\n",
      "         ham       0.96      1.00      0.98      1459\n",
      "        spam       0.99      0.71      0.83       213\n",
      "\n",
      "    accuracy                           0.96      1672\n",
      "   macro avg       0.98      0.85      0.90      1672\n",
      "weighted avg       0.96      0.96      0.96      1672\n",
      "\n"
     ]
    }
   ],
   "source": [
    "print(classification_report(y_test,predictions))"
   ]
  },
  {
   "cell_type": "markdown",
   "id": "137c4e31",
   "metadata": {},
   "source": [
    "# Support Vector Classifier\n"
   ]
  },
  {
   "cell_type": "code",
   "execution_count": 72,
   "id": "51f964d0",
   "metadata": {},
   "outputs": [],
   "source": [
    "from sklearn.svm import SVC"
   ]
  },
  {
   "cell_type": "code",
   "execution_count": 73,
   "id": "9f718227",
   "metadata": {},
   "outputs": [],
   "source": [
    "pipeline2 = Pipeline([('bow', CountVectorizer(analyzer=textFilerting)),('tfidf', TfidfTransformer()),('classifier' , SVC())])"
   ]
  },
  {
   "cell_type": "code",
   "execution_count": 74,
   "id": "35870414",
   "metadata": {},
   "outputs": [],
   "source": [
    "svc = SVC()"
   ]
  },
  {
   "cell_type": "code",
   "execution_count": 75,
   "id": "b72d25c7",
   "metadata": {},
   "outputs": [
    {
     "data": {
      "text/plain": [
       "Pipeline(steps=[('bow',\n",
       "                 CountVectorizer(analyzer=<function textFilerting at 0x0000025D73475790>)),\n",
       "                ('tfidf', TfidfTransformer()), ('classifier', SVC())])"
      ]
     },
     "execution_count": 75,
     "metadata": {},
     "output_type": "execute_result"
    }
   ],
   "source": [
    "pipeline2.fit(x_train,y_train)"
   ]
  },
  {
   "cell_type": "code",
   "execution_count": 76,
   "id": "85aee6ee",
   "metadata": {},
   "outputs": [],
   "source": [
    "predictions = pipeline2.predict(x_test)"
   ]
  },
  {
   "cell_type": "code",
   "execution_count": 77,
   "id": "0f051fb2",
   "metadata": {},
   "outputs": [
    {
     "name": "stdout",
     "output_type": "stream",
     "text": [
      "              precision    recall  f1-score   support\n",
      "\n",
      "         ham       0.98      1.00      0.99      1459\n",
      "        spam       0.99      0.88      0.93       213\n",
      "\n",
      "    accuracy                           0.98      1672\n",
      "   macro avg       0.99      0.94      0.96      1672\n",
      "weighted avg       0.98      0.98      0.98      1672\n",
      "\n"
     ]
    }
   ],
   "source": [
    "print(classification_report(y_test, predictions))"
   ]
  },
  {
   "cell_type": "markdown",
   "id": "252000db",
   "metadata": {},
   "source": [
    "# KNN CLASIFICATION"
   ]
  },
  {
   "cell_type": "code",
   "execution_count": 80,
   "id": "278643a4",
   "metadata": {},
   "outputs": [],
   "source": [
    "pipeline3 = Pipeline([('bow', CountVectorizer(analyzer=textFilerting)),('tfidf', TfidfTransformer()),('classifier' , KNeighborsClassifier())])"
   ]
  },
  {
   "cell_type": "code",
   "execution_count": 79,
   "id": "fe45c8b8",
   "metadata": {},
   "outputs": [],
   "source": [
    "from sklearn.neighbors import KNeighborsClassifier"
   ]
  },
  {
   "cell_type": "code",
   "execution_count": 81,
   "id": "08c277c3",
   "metadata": {},
   "outputs": [],
   "source": [
    "knn = KNeighborsClassifier(n_neighbors=8)"
   ]
  },
  {
   "cell_type": "code",
   "execution_count": 82,
   "id": "e322b8e4",
   "metadata": {},
   "outputs": [
    {
     "data": {
      "text/plain": [
       "Pipeline(steps=[('bow',\n",
       "                 CountVectorizer(analyzer=<function textFilerting at 0x0000025D73475790>)),\n",
       "                ('tfidf', TfidfTransformer()),\n",
       "                ('classifier', KNeighborsClassifier())])"
      ]
     },
     "execution_count": 82,
     "metadata": {},
     "output_type": "execute_result"
    }
   ],
   "source": [
    "pipeline3.fit(x_train, y_train)"
   ]
  },
  {
   "cell_type": "code",
   "execution_count": 83,
   "id": "a1f03b62",
   "metadata": {},
   "outputs": [],
   "source": [
    "predictions = pipeline3.predict(x_test)"
   ]
  },
  {
   "cell_type": "code",
   "execution_count": 84,
   "id": "a2d6c3e3",
   "metadata": {},
   "outputs": [],
   "source": [
    "from sklearn.metrics import classification_report"
   ]
  },
  {
   "cell_type": "code",
   "execution_count": 85,
   "id": "e6d06850",
   "metadata": {},
   "outputs": [
    {
     "name": "stdout",
     "output_type": "stream",
     "text": [
      "              precision    recall  f1-score   support\n",
      "\n",
      "         ham       0.97      1.00      0.98      1459\n",
      "        spam       0.99      0.76      0.86       213\n",
      "\n",
      "    accuracy                           0.97      1672\n",
      "   macro avg       0.98      0.88      0.92      1672\n",
      "weighted avg       0.97      0.97      0.97      1672\n",
      "\n"
     ]
    }
   ],
   "source": [
    "print(classification_report(y_test, predictions))"
   ]
  },
  {
   "cell_type": "code",
   "execution_count": 86,
   "id": "dee268fd",
   "metadata": {},
   "outputs": [],
   "source": [
    "folds = 10"
   ]
  },
  {
   "cell_type": "code",
   "execution_count": 87,
   "id": "69dcbacd",
   "metadata": {},
   "outputs": [
    {
     "data": {
      "text/plain": [
       "5014.8"
      ]
     },
     "execution_count": 87,
     "metadata": {},
     "output_type": "execute_result"
    }
   ],
   "source": [
    "(9/10)*len(x)"
   ]
  },
  {
   "cell_type": "code",
   "execution_count": 88,
   "id": "c6dd8e9f",
   "metadata": {},
   "outputs": [],
   "source": [
    "ks = list(range(1, 100,2))"
   ]
  },
  {
   "cell_type": "code",
   "execution_count": 89,
   "id": "95641797",
   "metadata": {},
   "outputs": [
    {
     "data": {
      "text/plain": [
       "[1,\n",
       " 3,\n",
       " 5,\n",
       " 7,\n",
       " 9,\n",
       " 11,\n",
       " 13,\n",
       " 15,\n",
       " 17,\n",
       " 19,\n",
       " 21,\n",
       " 23,\n",
       " 25,\n",
       " 27,\n",
       " 29,\n",
       " 31,\n",
       " 33,\n",
       " 35,\n",
       " 37,\n",
       " 39,\n",
       " 41,\n",
       " 43,\n",
       " 45,\n",
       " 47,\n",
       " 49,\n",
       " 51,\n",
       " 53,\n",
       " 55,\n",
       " 57,\n",
       " 59,\n",
       " 61,\n",
       " 63,\n",
       " 65,\n",
       " 67,\n",
       " 69,\n",
       " 71,\n",
       " 73,\n",
       " 75,\n",
       " 77,\n",
       " 79,\n",
       " 81,\n",
       " 83,\n",
       " 85,\n",
       " 87,\n",
       " 89,\n",
       " 91,\n",
       " 93,\n",
       " 95,\n",
       " 97,\n",
       " 99]"
      ]
     },
     "execution_count": 89,
     "metadata": {},
     "output_type": "execute_result"
    }
   ],
   "source": [
    "ks"
   ]
  },
  {
   "cell_type": "code",
   "execution_count": 90,
   "id": "611fac07",
   "metadata": {},
   "outputs": [],
   "source": [
    "knnAccuracy = []"
   ]
  },
  {
   "cell_type": "code",
   "execution_count": 91,
   "id": "7a05558b",
   "metadata": {},
   "outputs": [],
   "source": [
    "from sklearn.model_selection import cross_val_score"
   ]
  },
  {
   "cell_type": "code",
   "execution_count": 92,
   "id": "ada8a276",
   "metadata": {},
   "outputs": [
    {
     "name": "stdout",
     "output_type": "stream",
     "text": [
      "Accuracy with 1 neighbours: 0.9456202751769167\n",
      "Accuracy with 3 neighbours: 0.9373715693457102\n",
      "Accuracy with 5 neighbours: 0.9567492412105209\n",
      "Accuracy with 7 neighbours: 0.9581842187889962\n",
      "Accuracy with 9 neighbours: 0.9574656028854127\n",
      "Accuracy with 11 neighbours: 0.9542346491051517\n",
      "Accuracy with 13 neighbours: 0.9520802505414174\n",
      "Accuracy with 15 neighbours: 0.9506452729629421\n",
      "Accuracy with 17 neighbours: 0.9501071563710137\n",
      "Accuracy with 19 neighbours: 0.9508249671929218\n",
      "Accuracy with 21 neighbours: 0.9501065123056733\n",
      "Accuracy with 23 neighbours: 0.9481329350862644\n",
      "Accuracy with 25 neighbours: 0.9474149632480214\n",
      "Accuracy with 27 neighbours: 0.9465172971797988\n",
      "Accuracy with 29 neighbours: 0.9461583917688449\n",
      "Accuracy with 31 neighbours: 0.9441843315004308\n",
      "Accuracy with 33 neighbours: 0.9441841704840955\n",
      "Accuracy with 35 neighbours: 0.9425688546103002\n",
      "Accuracy with 37 neighbours: 0.9429275990049192\n",
      "Accuracy with 39 neighbours: 0.9413124441474588\n",
      "Accuracy with 41 neighbours: 0.9411333939828197\n",
      "Accuracy with 43 neighbours: 0.9404154221445766\n",
      "Accuracy with 45 neighbours: 0.9405951163745561\n",
      "Accuracy with 47 neighbours: 0.9396979333553389\n",
      "Accuracy with 49 neighbours: 0.9380826174815435\n",
      "Accuracy with 51 neighbours: 0.9379034063005692\n",
      "Accuracy with 53 neighbours: 0.9364676236404182\n",
      "Accuracy with 55 neighbours: 0.9357501348511807\n",
      "Accuracy with 57 neighbours: 0.9355702796048659\n",
      "Accuracy with 59 neighbours: 0.9348523077666229\n",
      "Accuracy with 61 neighbours: 0.9346729355693135\n",
      "Accuracy with 63 neighbours: 0.9343143521910298\n",
      "Accuracy with 65 neighbours: 0.9339554467800758\n",
      "Accuracy with 67 neighbours: 0.9341353020263906\n",
      "Accuracy with 69 neighbours: 0.9337762355991014\n",
      "Accuracy with 71 neighbours: 0.932878730547214\n",
      "Accuracy with 73 neighbours: 0.9323401309062804\n",
      "Accuracy with 75 neighbours: 0.9325201471689304\n",
      "Accuracy with 77 neighbours: 0.9314432699197333\n",
      "Accuracy with 79 neighbours: 0.9309045092624647\n",
      "Accuracy with 81 neighbours: 0.9307249760488203\n",
      "Accuracy with 83 neighbours: 0.9300070042105771\n",
      "Accuracy with 85 neighbours: 0.9301863764078867\n",
      "Accuracy with 87 neighbours: 0.9298271489642624\n",
      "Accuracy with 89 neighbours: 0.927493861252224\n",
      "Accuracy with 91 neighbours: 0.9269554226276255\n",
      "Accuracy with 93 neighbours: 0.926775728397646\n",
      "Accuracy with 95 neighbours: 0.9260580785920732\n",
      "Accuracy with 97 neighbours: 0.9258783843620935\n",
      "Accuracy with 99 neighbours: 0.9255196399674747\n"
     ]
    }
   ],
   "source": [
    "for k in ks:\n",
    "    pipeline4 = Pipeline([('bow', CountVectorizer(analyzer=textFilerting)),('tfidf', TfidfTransformer()),('classifier' , KNeighborsClassifier(k))])\n",
    "    score = cross_val_score(pipeline4, x,y,cv = 5, scoring = 'accuracy').mean()\n",
    "    knnAccuracy.append(score)\n",
    "    print(f\"Accuracy with {k} neighbours: {score}\")"
   ]
  },
  {
   "cell_type": "code",
   "execution_count": 93,
   "id": "d646b713",
   "metadata": {},
   "outputs": [
    {
     "data": {
      "text/plain": [
       "[0.9456202751769167,\n",
       " 0.9373715693457102,\n",
       " 0.9567492412105209,\n",
       " 0.9581842187889962,\n",
       " 0.9574656028854127,\n",
       " 0.9542346491051517,\n",
       " 0.9520802505414174,\n",
       " 0.9506452729629421,\n",
       " 0.9501071563710137,\n",
       " 0.9508249671929218,\n",
       " 0.9501065123056733,\n",
       " 0.9481329350862644,\n",
       " 0.9474149632480214,\n",
       " 0.9465172971797988,\n",
       " 0.9461583917688449,\n",
       " 0.9441843315004308,\n",
       " 0.9441841704840955,\n",
       " 0.9425688546103002,\n",
       " 0.9429275990049192,\n",
       " 0.9413124441474588,\n",
       " 0.9411333939828197,\n",
       " 0.9404154221445766,\n",
       " 0.9405951163745561,\n",
       " 0.9396979333553389,\n",
       " 0.9380826174815435,\n",
       " 0.9379034063005692,\n",
       " 0.9364676236404182,\n",
       " 0.9357501348511807,\n",
       " 0.9355702796048659,\n",
       " 0.9348523077666229,\n",
       " 0.9346729355693135,\n",
       " 0.9343143521910298,\n",
       " 0.9339554467800758,\n",
       " 0.9341353020263906,\n",
       " 0.9337762355991014,\n",
       " 0.932878730547214,\n",
       " 0.9323401309062804,\n",
       " 0.9325201471689304,\n",
       " 0.9314432699197333,\n",
       " 0.9309045092624647,\n",
       " 0.9307249760488203,\n",
       " 0.9300070042105771,\n",
       " 0.9301863764078867,\n",
       " 0.9298271489642624,\n",
       " 0.927493861252224,\n",
       " 0.9269554226276255,\n",
       " 0.926775728397646,\n",
       " 0.9260580785920732,\n",
       " 0.9258783843620935,\n",
       " 0.9255196399674747]"
      ]
     },
     "execution_count": 93,
     "metadata": {},
     "output_type": "execute_result"
    }
   ],
   "source": [
    "knnAccuracy"
   ]
  },
  {
   "cell_type": "code",
   "execution_count": 95,
   "id": "2ab2226d",
   "metadata": {},
   "outputs": [],
   "source": [
    "maxScore = max(knnAccuracy)"
   ]
  },
  {
   "cell_type": "code",
   "execution_count": 96,
   "id": "3ebea7b3",
   "metadata": {},
   "outputs": [
    {
     "data": {
      "text/plain": [
       "3"
      ]
     },
     "execution_count": 96,
     "metadata": {},
     "output_type": "execute_result"
    }
   ],
   "source": [
    "knnAccuracy.index(maxScore)"
   ]
  },
  {
   "cell_type": "code",
   "execution_count": 97,
   "id": "a909ed1f",
   "metadata": {},
   "outputs": [
    {
     "data": {
      "text/plain": [
       "7"
      ]
     },
     "execution_count": 97,
     "metadata": {},
     "output_type": "execute_result"
    }
   ],
   "source": [
    "ks[knnAccuracy.index(maxScore)]"
   ]
  }
 ],
 "metadata": {
  "kernelspec": {
   "display_name": "Python 3 (ipykernel)",
   "language": "python",
   "name": "python3"
  },
  "language_info": {
   "codemirror_mode": {
    "name": "ipython",
    "version": 3
   },
   "file_extension": ".py",
   "mimetype": "text/x-python",
   "name": "python",
   "nbconvert_exporter": "python",
   "pygments_lexer": "ipython3",
   "version": "3.9.7"
  }
 },
 "nbformat": 4,
 "nbformat_minor": 5
}
