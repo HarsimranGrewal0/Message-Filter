{
 "cells": [
  {
   "cell_type": "markdown",
   "id": "b338af38",
   "metadata": {},
   "source": [
    "# CREATING A DATABASE"
   ]
  },
  {
   "cell_type": "code",
   "execution_count": 2,
   "id": "05ae54fd",
   "metadata": {},
   "outputs": [],
   "source": [
    "import mysql.connector\n",
    "from mysql.connector import Error"
   ]
  },
  {
   "cell_type": "code",
   "execution_count": 6,
   "id": "e996ba79",
   "metadata": {},
   "outputs": [],
   "source": [
    "def create_db_connection(hostname, username, password, database):\n",
    "    connection = None\n",
    "    try:\n",
    "        connection = mysql.connector.connect(host=hostname, user=username, passwd=password, database=database)\n",
    "        print(\"connection successful\")\n",
    "    except Error as e:\n",
    "        print(\"Error: \"+ str(e))\n",
    "        \n",
    "    return connection"
   ]
  },
  {
   "cell_type": "code",
   "execution_count": 7,
   "id": "078e5e08",
   "metadata": {},
   "outputs": [
    {
     "name": "stdout",
     "output_type": "stream",
     "text": [
      "connection successful\n"
     ]
    },
    {
     "data": {
      "text/plain": [
       "<mysql.connector.connection_cext.CMySQLConnection at 0x25d0eb44fa0>"
      ]
     },
     "execution_count": 7,
     "metadata": {},
     "output_type": "execute_result"
    }
   ],
   "source": [
    "create_db_connection('localhost', 'root','', 'harsimran')"
   ]
  },
  {
   "cell_type": "code",
   "execution_count": 14,
   "id": "3c9dcdcd",
   "metadata": {},
   "outputs": [],
   "source": [
    "def execute_query(connection, query):\n",
    "    cursor = connection.cursor()\n",
    "    try:\n",
    "        cursor.execute(query)\n",
    "        connection.commit()\n",
    "        print(\"Query Successful\")\n",
    "    except Error as e:\n",
    "        print(\"Error:\" + str(e))"
   ]
  },
  {
   "cell_type": "code",
   "execution_count": 15,
   "id": "ea77ed50",
   "metadata": {},
   "outputs": [
    {
     "name": "stdout",
     "output_type": "stream",
     "text": [
      "connection successful\n",
      "Query Successful\n"
     ]
    }
   ],
   "source": [
    "connection = create_db_connection('localhost', 'root', '', 'harsimran')\n",
    "execute_query(connection,\"insert into grewal values(null, 'Aman', 'hiii','ham')\")"
   ]
  },
  {
   "cell_type": "code",
   "execution_count": null,
   "id": "6905964a",
   "metadata": {},
   "outputs": [],
   "source": []
  }
 ],
 "metadata": {
  "kernelspec": {
   "display_name": "Python 3 (ipykernel)",
   "language": "python",
   "name": "python3"
  },
  "language_info": {
   "codemirror_mode": {
    "name": "ipython",
    "version": 3
   },
   "file_extension": ".py",
   "mimetype": "text/x-python",
   "name": "python",
   "nbconvert_exporter": "python",
   "pygments_lexer": "ipython3",
   "version": "3.9.7"
  }
 },
 "nbformat": 4,
 "nbformat_minor": 5
}
